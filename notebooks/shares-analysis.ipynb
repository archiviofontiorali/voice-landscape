{
 "cells": [
  {
   "cell_type": "markdown",
   "id": "7190c544-2562-415f-a68c-69fcbc3e6912",
   "metadata": {},
   "source": [
    "# Share Analysis"
   ]
  },
  {
   "cell_type": "code",
   "execution_count": null,
   "id": "145abcfb-d0dd-441d-aaf3-76b18f428114",
   "metadata": {
    "tags": []
   },
   "outputs": [],
   "source": [
    "# Solve SynchronousOnlyOperation error\n",
    "# https://stackoverflow.com/questions/61926359/django-synchronousonlyoperation-you-cannot-call-this-from-an-async-context-u\n",
    "\n",
    "import os\n",
    "import django\n",
    "os.environ.setdefault('DJANGO_SETTINGS_MODULE', 'rest.settings')\n",
    "os.environ[\"DJANGO_ALLOW_ASYNC_UNSAFE\"] = \"true\"\n",
    "django.setup()"
   ]
  },
  {
   "cell_type": "code",
   "execution_count": null,
   "id": "9818bde2-dfc7-4a73-ae17-40e95c29039f",
   "metadata": {
    "tags": []
   },
   "outputs": [],
   "source": [
    "import matplotlib.pyplot as plt\n",
    "import seaborn as sns"
   ]
  },
  {
   "cell_type": "code",
   "execution_count": null,
   "id": "6f744dda-6f1e-4cca-baa1-80e0fbc23c1b",
   "metadata": {
    "tags": []
   },
   "outputs": [],
   "source": [
    "from voices.website import models"
   ]
  },
  {
   "cell_type": "markdown",
   "id": "a2fcc365-bddb-4e53-b8dc-2adb38ca2c71",
   "metadata": {},
   "source": [
    "### Extract data from db and convert it in a seaborn compatible data source"
   ]
  },
  {
   "cell_type": "code",
   "execution_count": null,
   "id": "9776f1d0-2559-45ff-a56e-0599584f57cf",
   "metadata": {
    "tags": []
   },
   "outputs": [],
   "source": [
    "shares = models.Share.objects.order_by(\"timestamp\").all()\n",
    "data = {\n",
    "    \"timestamp\": [s.timestamp for s in shares],\n",
    "    \"latitude\": [s.latitude for s in shares],\n",
    "    \"longitude\": [s.longitude for s in shares],\n",
    "    \"day\": [s.timestamp.date() for s in shares],\n",
    "}"
   ]
  },
  {
   "cell_type": "code",
   "execution_count": null,
   "id": "c3ff30e8-37b1-414a-adec-cb8f7294ef3e",
   "metadata": {},
   "outputs": [],
   "source": [
    "%matplotlib ipympl\n",
    "sns.scatterplot(data=data, x=\"latitude\", y=\"longitude\", hue=\"day\")"
   ]
  },
  {
   "cell_type": "code",
   "execution_count": null,
   "id": "f1ef6766-33b1-492a-afeb-d1f4fd53faba",
   "metadata": {
    "tags": []
   },
   "outputs": [],
   "source": [
    "# Decomment to custoomize and update data if in ipympl mode\n",
    "# sns.scatterplot(data=data, x=\"latitude\", y=\"longitude\", hue=\"day\")"
   ]
  }
 ],
 "metadata": {
  "kernelspec": {
   "display_name": "Django Shell-Plus",
   "language": "python",
   "name": "django_extensions"
  },
  "language_info": {
   "codemirror_mode": {
    "name": "ipython",
    "version": 3
   },
   "file_extension": ".py",
   "mimetype": "text/x-python",
   "name": "python",
   "nbconvert_exporter": "python",
   "pygments_lexer": "ipython3",
   "version": "3.10.10"
  }
 },
 "nbformat": 4,
 "nbformat_minor": 5
}
