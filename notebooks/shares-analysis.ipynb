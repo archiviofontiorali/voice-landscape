{
 "cells": [
  {
   "cell_type": "markdown",
   "id": "7190c544-2562-415f-a68c-69fcbc3e6912",
   "metadata": {},
   "source": [
    "# Share Analysis"
   ]
  },
  {
   "cell_type": "markdown",
   "id": "a2fcc365-bddb-4e53-b8dc-2adb38ca2c71",
   "metadata": {},
   "source": [
    "### Extract data from db and convert it in a seaborn compatible data source"
   ]
  },
  {
   "cell_type": "code",
   "execution_count": null,
   "id": "96d3b13d-5953-4690-af66-5d30054dd8e6",
   "metadata": {
    "tags": []
   },
   "outputs": [],
   "source": [
    "import numpy as np\n",
    "import pandas as pd"
   ]
  },
  {
   "cell_type": "code",
   "execution_count": null,
   "id": "6f744dda-6f1e-4cca-baa1-80e0fbc23c1b",
   "metadata": {
    "tags": []
   },
   "outputs": [],
   "source": [
    "from voices.website import models"
   ]
  },
  {
   "cell_type": "code",
   "execution_count": null,
   "id": "1709dcf1-149c-4558-9d33-b42165816e76",
   "metadata": {
    "tags": []
   },
   "outputs": [],
   "source": [
    "shares = models.Share.objects.order_by(\"timestamp\").all()\n",
    "\n",
    "df = pd.DataFrame({\n",
    "    \"longitude\": pd.Series(dtype='float'),\n",
    "    \"latitude\": pd.Series(dtype='float'),\n",
    "    \"datetime\": pd.Series(dtype=\"datetime64[ns, UTC]\"),\n",
    "    \"timestamp\": pd.Series(dtype='int'),\n",
    "    \"message\": pd.Series(dtype='str'),\n",
    "})\n",
    "\n",
    "for share in models.Share.objects.order_by(\"timestamp\").all():\n",
    "    x, y = share.mercator_coordinates\n",
    "    ts = share.timestamp.timestamp() // 1000 \n",
    "    df.loc[len(df)] = [\n",
    "        x, y, share.timestamp, ts, share.message\n",
    "    ]\n",
    "    \n",
    "df.head()"
   ]
  },
  {
   "cell_type": "markdown",
   "id": "2369774a-b2e6-4df2-bb70-d2f5c1f1c4bc",
   "metadata": {},
   "source": [
    "### Bokeh "
   ]
  },
  {
   "cell_type": "code",
   "execution_count": null,
   "id": "1181cca1-6a90-4365-971c-b6ff57e42795",
   "metadata": {
    "tags": []
   },
   "outputs": [],
   "source": [
    "from bokeh.io import output_notebook\n",
    "from bokeh.models import ColumnDataSource\n",
    "from bokeh.palettes import YlOrRd\n",
    "from bokeh.plotting import curdoc, figure, show\n",
    "from bokeh.transform import linear_cmap\n",
    "\n",
    "import xyzservices.providers as xyz\n",
    "\n",
    "output_notebook()\n",
    "curdoc().theme = 'dark_minimal'"
   ]
  },
  {
   "cell_type": "code",
   "execution_count": null,
   "id": "c9f36397-9370-4784-830f-960f9a288c20",
   "metadata": {
    "tags": []
   },
   "outputs": [],
   "source": [
    "def mercator_longitude(longitude) -> float:\n",
    "    return longitude * (6378137 * np.pi / 180.0)\n",
    "\n",
    "def mercator_latitude(latitude) -> float:\n",
    "    return np.log(np.tan((90 + latitude) * np.pi / 360.0)) * 6378137\n",
    "\n",
    "def mercator_projection(coord: tuple[float, float]):\n",
    "    x = mercator_longitude(coord[1])\n",
    "    y = mercator_latitude(coord[0])\n",
    "    return x, y"
   ]
  },
  {
   "cell_type": "code",
   "execution_count": null,
   "id": "6c0b5463-7ea9-4860-bace-73b986e9b218",
   "metadata": {
    "tags": []
   },
   "outputs": [],
   "source": [
    "p = figure(\n",
    "    match_aspect=True, \n",
    "    aspect_ratio=2, \n",
    "    sizing_mode=\"stretch_width\",\n",
    "    x_axis_type=\"mercator\", \n",
    "    y_axis_type=\"mercator\",\n",
    "    x_range=(mercator_longitude(10.88), mercator_longitude(10.91)), \n",
    "    y_range=(mercator_latitude(44.625), mercator_latitude(44.665)),\n",
    "    tooltips=[(\"message\", \"@message\")],\n",
    ")\n",
    "p.add_tile(xyz.Stamen.TonerBackground, retina=True)"
   ]
  },
  {
   "cell_type": "code",
   "execution_count": null,
   "id": "19c4ea23-90e9-44a3-b457-930fcc8a98db",
   "metadata": {
    "tags": []
   },
   "outputs": [],
   "source": [
    "source = ColumnDataSource(df)\n",
    "\n",
    "cmap = linear_cmap(\n",
    "    \"timestamp\", \n",
    "    \"Inferno256\", \n",
    "    low=df.timestamp.min(),\n",
    "    high=df.timestamp.max(),\n",
    ")\n",
    "\n",
    "p.circle(\n",
    "    source=source, \n",
    "    x=\"longitude\", \n",
    "    y=\"latitude\", \n",
    "    color=cmap,\n",
    "    line_color=\"gray\",\n",
    "    size=12,\n",
    ")\n",
    "\n",
    "show(p)"
   ]
  }
 ],
 "metadata": {
  "kernelspec": {
   "display_name": "Django Shell-Plus",
   "language": "python",
   "name": "django_extensions"
  },
  "language_info": {
   "codemirror_mode": {
    "name": "ipython",
    "version": 3
   },
   "file_extension": ".py",
   "mimetype": "text/x-python",
   "name": "python",
   "nbconvert_exporter": "python",
   "pygments_lexer": "ipython3",
   "version": "3.10.10"
  }
 },
 "nbformat": 4,
 "nbformat_minor": 5
}
