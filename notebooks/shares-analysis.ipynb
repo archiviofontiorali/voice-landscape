{
 "cells": [
  {
   "cell_type": "markdown",
   "id": "7190c544-2562-415f-a68c-69fcbc3e6912",
   "metadata": {},
   "source": [
    "# Share Analysis"
   ]
  },
  {
   "cell_type": "code",
   "execution_count": null,
   "id": "145abcfb-d0dd-441d-aaf3-76b18f428114",
   "metadata": {
    "tags": []
   },
   "outputs": [],
   "source": [
    "# Solve SynchronousOnlyOperation error\n",
    "# https://stackoverflow.com/questions/61926359/django-synchronousonlyoperation-you-cannot-call-this-from-an-async-context-u\n",
    "\n",
    "import os\n",
    "import django\n",
    "os.environ.setdefault('DJANGO_SETTINGS_MODULE', 'rest.settings')\n",
    "os.environ[\"DJANGO_ALLOW_ASYNC_UNSAFE\"] = \"true\"\n",
    "django.setup()"
   ]
  },
  {
   "cell_type": "markdown",
   "id": "a2fcc365-bddb-4e53-b8dc-2adb38ca2c71",
   "metadata": {},
   "source": [
    "### Extract data from db and convert it in a seaborn compatible data source"
   ]
  },
  {
   "cell_type": "code",
   "execution_count": null,
   "id": "96d3b13d-5953-4690-af66-5d30054dd8e6",
   "metadata": {
    "tags": []
   },
   "outputs": [],
   "source": [
    "import numpy as np\n",
    "import pandas as pd"
   ]
  },
  {
   "cell_type": "code",
   "execution_count": null,
   "id": "6f744dda-6f1e-4cca-baa1-80e0fbc23c1b",
   "metadata": {
    "tags": []
   },
   "outputs": [],
   "source": [
    "from voices.website import models"
   ]
  },
  {
   "cell_type": "code",
   "execution_count": null,
   "id": "9776f1d0-2559-45ff-a56e-0599584f57cf",
   "metadata": {
    "tags": []
   },
   "outputs": [],
   "source": [
    "shares = models.Share.objects.order_by(\"timestamp\").all()\n",
    "data = {\n",
    "    \"datetime\": [s.timestamp for s in shares],\n",
    "    \"latitude\": [s.latitude for s in shares],\n",
    "    \"longitude\": [s.longitude for s in shares],\n",
    "    \"day\": [s.timestamp.date() for s in shares],\n",
    "}\n",
    "df = pd.DataFrame(data)\n",
    "\n",
    "\n",
    "df[\"timestamp\"] = df.datetime.astype(int) // 1000\n",
    "\n",
    "\n",
    "# Convert to mercator coordinates (see: https://stackoverflow.com/questions/57178783/how-to-plot-latitude-and-longitude-in-bokeh)\n",
    "k = 6378137\n",
    "df[\"x\"] = df[\"longitude\"] * (k * np.pi/180.0)\n",
    "df[\"y\"] = np.log(np.tan((90 + df[\"latitude\"]) * np.pi/360.0)) * k\n",
    "\n",
    "df.tail()"
   ]
  },
  {
   "cell_type": "markdown",
   "id": "2369774a-b2e6-4df2-bb70-d2f5c1f1c4bc",
   "metadata": {},
   "source": [
    "### Bokeh "
   ]
  },
  {
   "cell_type": "code",
   "execution_count": null,
   "id": "1181cca1-6a90-4365-971c-b6ff57e42795",
   "metadata": {
    "tags": []
   },
   "outputs": [],
   "source": [
    "from bokeh.plotting import curdoc, figure, show\n",
    "from bokeh.io import output_notebook\n",
    "from bokeh.transform import linear_cmap\n",
    "from bokeh.models import ColumnDataSource\n",
    "import xyzservices.providers as xyz\n",
    "\n",
    "output_notebook()\n",
    "curdoc().theme = 'dark_minimal'"
   ]
  },
  {
   "cell_type": "code",
   "execution_count": null,
   "id": "6c0b5463-7ea9-4860-bace-73b986e9b218",
   "metadata": {
    "tags": []
   },
   "outputs": [],
   "source": [
    "source = ColumnDataSource(df)\n",
    "p = figure(\n",
    "    match_aspect=True, \n",
    "    aspect_ratio=3, \n",
    "    sizing_mode=\"stretch_width\",\n",
    "    x_axis_type=\"mercator\", \n",
    "    y_axis_type=\"mercator\",\n",
    "    x_range=(-2000000, 2000000), \n",
    "    y_range=(1000000, 7000000),\n",
    ")\n",
    "p.add_tile(xyz.Stamen.TonerBackground)"
   ]
  },
  {
   "cell_type": "code",
   "execution_count": null,
   "id": "19c4ea23-90e9-44a3-b457-930fcc8a98db",
   "metadata": {
    "tags": []
   },
   "outputs": [],
   "source": [
    "cmap = linear_cmap(\n",
    "    \"timestamp\", \n",
    "    'Viridis256', \n",
    "    low=df.timestamp.min(),\n",
    "    high=df.timestamp.max(),\n",
    ")\n",
    "\n",
    "p.circle(\n",
    "    source=source, \n",
    "    x=\"x\", \n",
    "    y=\"y\", \n",
    "    color=cmap,\n",
    "    size=10,\n",
    ") "
   ]
  },
  {
   "cell_type": "code",
   "execution_count": null,
   "id": "a7009904-113c-409a-8edc-3ffe715e8419",
   "metadata": {},
   "outputs": [],
   "source": [
    "show(p)"
   ]
  },
  {
   "cell_type": "markdown",
   "id": "99981468-235f-4bac-85ae-b3f0438cd9c0",
   "metadata": {},
   "source": [
    "### Matplotlib/seaborn plot"
   ]
  },
  {
   "cell_type": "code",
   "execution_count": null,
   "id": "9818bde2-dfc7-4a73-ae17-40e95c29039f",
   "metadata": {
    "tags": []
   },
   "outputs": [],
   "source": [
    "import matplotlib.pyplot as plt\n",
    "import seaborn as sns"
   ]
  },
  {
   "cell_type": "code",
   "execution_count": null,
   "id": "c3ff30e8-37b1-414a-adec-cb8f7294ef3e",
   "metadata": {},
   "outputs": [],
   "source": [
    "%matplotlib ipympl\n",
    "sns.scatterplot(data=data, x=\"longitude\", y=\"latitude\", hue=\"day\")"
   ]
  },
  {
   "cell_type": "code",
   "execution_count": null,
   "id": "f1ef6766-33b1-492a-afeb-d1f4fd53faba",
   "metadata": {
    "tags": []
   },
   "outputs": [],
   "source": [
    "# Decomment to custoomize and update data if in ipympl mode\n",
    "# sns.scatterplot(data=data, x=\"latitude\", y=\"longitude\", hue=\"day\")"
   ]
  }
 ],
 "metadata": {
  "kernelspec": {
   "display_name": "Django Shell-Plus",
   "language": "python",
   "name": "django_extensions"
  },
  "language_info": {
   "codemirror_mode": {
    "name": "ipython",
    "version": 3
   },
   "file_extension": ".py",
   "mimetype": "text/x-python",
   "name": "python",
   "nbconvert_exporter": "python",
   "pygments_lexer": "ipython3",
   "version": "3.10.10"
  }
 },
 "nbformat": 4,
 "nbformat_minor": 5
}
