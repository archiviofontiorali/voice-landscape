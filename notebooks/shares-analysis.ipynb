{
 "cells": [
  {
   "cell_type": "markdown",
   "id": "7190c544-2562-415f-a68c-69fcbc3e6912",
   "metadata": {},
   "source": [
    "# Share Analysis"
   ]
  },
  {
   "cell_type": "markdown",
   "id": "a2fcc365-bddb-4e53-b8dc-2adb38ca2c71",
   "metadata": {},
   "source": [
    "### Extract data from db and convert it in a seaborn compatible data source"
   ]
  },
  {
   "cell_type": "code",
   "execution_count": null,
   "id": "1709dcf1-149c-4558-9d33-b42165816e76",
   "metadata": {
    "tags": []
   },
   "outputs": [],
   "source": [
    "import pandas as pd\n",
    "from voices.website import models\n",
    "\n",
    "query = models.Share.objects.order_by(\"timestamp\").all()\n",
    "\n",
    "shares= pd.DataFrame({\n",
    "    \"longitude\": pd.Series(dtype='float'),\n",
    "    \"latitude\": pd.Series(dtype='float'),\n",
    "    \"datetime\": pd.Series(dtype=\"datetime64[ns, UTC]\"),\n",
    "    \"timestamp\": pd.Series(dtype='int'),\n",
    "    \"message\": pd.Series(dtype='str'),\n",
    "})\n",
    "\n",
    "for share in models.Share.objects.order_by(\"timestamp\").all():\n",
    "    x, y = share.mercator_coordinates\n",
    "    ts = int(share.timestamp.timestamp()) // 60  # in minutes\n",
    "    shares.loc[len(shares)] = (x, y, share.timestamp, ts, share.message)\n",
    "\n",
    "shares.timestamp -= shares.timestamp.min()\n",
    "\n",
    "shares.head()"
   ]
  },
  {
   "cell_type": "markdown",
   "id": "2369774a-b2e6-4df2-bb70-d2f5c1f1c4bc",
   "metadata": {},
   "source": [
    "### Bokeh "
   ]
  },
  {
   "cell_type": "code",
   "execution_count": null,
   "id": "1181cca1-6a90-4365-971c-b6ff57e42795",
   "metadata": {
    "tags": []
   },
   "outputs": [],
   "source": [
    "from bokeh.io import output_notebook, curdoc\n",
    "\n",
    "output_notebook()\n",
    "curdoc().theme = 'dark_minimal'"
   ]
  },
  {
   "cell_type": "code",
   "execution_count": null,
   "id": "6c0b5463-7ea9-4860-bace-73b986e9b218",
   "metadata": {
    "tags": []
   },
   "outputs": [],
   "source": [
    "import bokeh\n",
    "from bokeh.plotting import figure\n",
    "from voices.geo.utils import mercator_longitude, mercator_latitude\n",
    "import xyzservices.providers as xyz\n",
    "\n",
    "p = figure(\n",
    "    match_aspect=True, \n",
    "    aspect_ratio=2, \n",
    "    sizing_mode=\"stretch_width\",\n",
    "    x_axis_type=\"mercator\", \n",
    "    y_axis_type=\"mercator\",\n",
    "    x_range=(mercator_longitude(10.88), mercator_longitude(10.91)), \n",
    "    y_range=(mercator_latitude(44.625), mercator_latitude(44.665)),\n",
    "    tooltips=[(\"message\", \"@message\"), (\"time\", \"@timestamp\")],\n",
    ")\n",
    "\n",
    "if bokeh.__version__ >= \"3.0.0\":\n",
    "    p.add_tile(xyz.Stamen.TonerBackground, retina=True)\n",
    "else:\n",
    "    from bokeh.tile_providers import CARTODBPOSITRON, get_provider\n",
    "    tile_provider = get_provider(xyz.Stamen.TonerBackground)\n",
    "    p.add_tile(tile_provider)\n",
    "    "
   ]
  },
  {
   "cell_type": "code",
   "execution_count": null,
   "id": "a083381c-3b54-43d6-b223-741f68f34c58",
   "metadata": {
    "tags": []
   },
   "outputs": [],
   "source": [
    "from bokeh.io import push_notebook\n",
    "from bokeh.models import ColumnDataSource, CDSView, BooleanFilter\n",
    "from bokeh.transform import linear_cmap\n",
    "from bokeh.plotting import show\n",
    "\n",
    "source = ColumnDataSource(shares)\n",
    "\n",
    "filter_ = BooleanFilter([False] * len(shares))\n",
    "if bokeh.__version__ >= \"3.0.0\":\n",
    "    view = CDSView(filter=filter_)\n",
    "else:\n",
    "    view = CDSView(filters=[filter_], source=source)\n",
    "    \n",
    "cmap = linear_cmap(\"timestamp\", \"Inferno256\", low=0, high=shares.timestamp.max())\n",
    "\n",
    "c = p.circle(\n",
    "    source=source, \n",
    "    view=view,\n",
    "    x=\"longitude\", \n",
    "    y=\"latitude\", \n",
    "    color=cmap,\n",
    "    line_color=\"gray\",\n",
    "    size=12,\n",
    ")\n",
    "\n",
    "handle = show(p, notebook_handle=True)"
   ]
  },
  {
   "cell_type": "code",
   "execution_count": null,
   "id": "0b22773e-d79c-486d-8c73-65ac10aa97c8",
   "metadata": {
    "tags": []
   },
   "outputs": [],
   "source": [
    "import ipywidgets as widgets\n",
    "\n",
    "t_max = shares.timestamp.max()\n",
    "ts_slider = widgets.IntRangeSlider(\n",
    "    value=[0, t_max], min=0, max=t_max, step=1,\n",
    "    description='Time:'\n",
    ")\n",
    "\n",
    "@widgets.interact(value=ts_slider)\n",
    "def handle_ts_slider_change(value):\n",
    "    print(value)\n",
    "    filter_ = BooleanFilter([value[0] <= t <= value[1] for t in shares.timestamp])\n",
    "    if bokeh.__version__ >= \"3.0.0\":\n",
    "        view.filter = filter_\n",
    "    else:\n",
    "        view.filters[0] = filter_\n",
    "\n",
    "    push_notebook(handle=handle)"
   ]
  }
 ],
 "metadata": {
  "kernelspec": {
   "display_name": "Django Shell-Plus",
   "language": "python",
   "name": "django_extensions"
  },
  "language_info": {
   "codemirror_mode": {
    "name": "ipython",
    "version": 3
   },
   "file_extension": ".py",
   "mimetype": "text/x-python",
   "name": "python",
   "nbconvert_exporter": "python",
   "pygments_lexer": "ipython3",
   "version": "3.11.3"
  }
 },
 "nbformat": 4,
 "nbformat_minor": 5
}
