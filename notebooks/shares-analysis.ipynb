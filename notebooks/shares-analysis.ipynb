{
 "cells": [
  {
   "cell_type": "markdown",
   "id": "7190c544-2562-415f-a68c-69fcbc3e6912",
   "metadata": {},
   "source": [
    "# Share Analysis"
   ]
  },
  {
   "cell_type": "markdown",
   "id": "a2fcc365-bddb-4e53-b8dc-2adb38ca2c71",
   "metadata": {},
   "source": [
    "### Extract data from db and convert it in a seaborn compatible data source"
   ]
  },
  {
   "cell_type": "code",
   "execution_count": null,
   "id": "96d3b13d-5953-4690-af66-5d30054dd8e6",
   "metadata": {
    "tags": []
   },
   "outputs": [],
   "source": [
    "import numpy as np\n",
    "import pandas as pd"
   ]
  },
  {
   "cell_type": "code",
   "execution_count": null,
   "id": "6f744dda-6f1e-4cca-baa1-80e0fbc23c1b",
   "metadata": {
    "tags": []
   },
   "outputs": [],
   "source": [
    "from voices.website import models"
   ]
  },
  {
   "cell_type": "code",
   "execution_count": null,
   "id": "1709dcf1-149c-4558-9d33-b42165816e76",
   "metadata": {
    "tags": []
   },
   "outputs": [],
   "source": [
    "shares = models.Share.objects.order_by(\"timestamp\").all()\n",
    "\n",
    "df = pd.DataFrame({\n",
    "    \"longitude\": pd.Series(dtype='float'),\n",
    "    \"latitude\": pd.Series(dtype='float'),\n",
    "    \"datetime\": pd.Series(dtype=\"datetime64[ns, UTC]\"),\n",
    "    \"timestamp\": pd.Series(dtype='int'),\n",
    "    \"message\": pd.Series(dtype='str'),\n",
    "})\n",
    "\n",
    "for share in models.Share.objects.order_by(\"timestamp\").all():\n",
    "    x, y = share.mercator_coordinates\n",
    "    ts = int(share.timestamp.timestamp()) // 60  # in minutes\n",
    "    df.loc[len(df)] = [\n",
    "        x, y, share.timestamp, ts, share.message\n",
    "    ]\n",
    "    \n",
    "df.head()"
   ]
  },
  {
   "cell_type": "markdown",
   "id": "2369774a-b2e6-4df2-bb70-d2f5c1f1c4bc",
   "metadata": {},
   "source": [
    "### Bokeh "
   ]
  },
  {
   "cell_type": "code",
   "execution_count": null,
   "id": "1181cca1-6a90-4365-971c-b6ff57e42795",
   "metadata": {
    "tags": []
   },
   "outputs": [],
   "source": [
    "from bokeh.io import output_notebook, push_notebook, show\n",
    "from bokeh.palettes import YlOrRd\n",
    "from bokeh.plotting import curdoc, figure\n",
    "from bokeh.transform import linear_cmap\n",
    "\n",
    "import xyzservices.providers as xyz\n",
    "\n",
    "output_notebook()\n",
    "curdoc().theme = 'dark_minimal'"
   ]
  },
  {
   "cell_type": "code",
   "execution_count": null,
   "id": "a083381c-3b54-43d6-b223-741f68f34c58",
   "metadata": {
    "tags": []
   },
   "outputs": [],
   "source": [
    "from bokeh.models import ColumnDataSource, CDSView, BooleanFilter\n",
    "\n",
    "source = ColumnDataSource(df)\n",
    "view = CDSView(filter=BooleanFilter([True for _ in range(len(df))]))"
   ]
  },
  {
   "cell_type": "code",
   "execution_count": null,
   "id": "c9f36397-9370-4784-830f-960f9a288c20",
   "metadata": {
    "tags": []
   },
   "outputs": [],
   "source": [
    "def mercator_longitude(longitude) -> float:\n",
    "    return longitude * (6378137 * np.pi / 180.0)\n",
    "\n",
    "def mercator_latitude(latitude) -> float:\n",
    "    return np.log(np.tan((90 + latitude) * np.pi / 360.0)) * 6378137\n",
    "\n",
    "def mercator_projection(coord: tuple[float, float]):\n",
    "    x = mercator_longitude(coord[1])\n",
    "    y = mercator_latitude(coord[0])\n",
    "    return x, y"
   ]
  },
  {
   "cell_type": "code",
   "execution_count": null,
   "id": "6c0b5463-7ea9-4860-bace-73b986e9b218",
   "metadata": {
    "tags": []
   },
   "outputs": [],
   "source": [
    "p = figure(\n",
    "    match_aspect=True, \n",
    "    aspect_ratio=2, \n",
    "    sizing_mode=\"stretch_width\",\n",
    "    x_axis_type=\"mercator\", \n",
    "    y_axis_type=\"mercator\",\n",
    "    x_range=(mercator_longitude(10.88), mercator_longitude(10.91)), \n",
    "    y_range=(mercator_latitude(44.625), mercator_latitude(44.665)),\n",
    "    tooltips=[(\"message\", \"@message\")],\n",
    ")\n",
    "p.add_tile(xyz.Stamen.TonerBackground, retina=True)"
   ]
  },
  {
   "cell_type": "code",
   "execution_count": null,
   "id": "a611bd0e-d840-4b02-9f65-0fc44f283bde",
   "metadata": {
    "tags": []
   },
   "outputs": [],
   "source": [
    "cmap = linear_cmap(\n",
    "    \"timestamp\", \n",
    "    \"Inferno256\", \n",
    "    low=df.timestamp.min(),\n",
    "    high=df.timestamp.max(),\n",
    ")\n",
    "\n",
    "c = p.circle(\n",
    "    source=source, view=view,\n",
    "    x=\"longitude\", \n",
    "    y=\"latitude\", \n",
    "    color=cmap,\n",
    "    line_color=\"gray\",\n",
    "    size=12,\n",
    ")"
   ]
  },
  {
   "cell_type": "code",
   "execution_count": null,
   "id": "0b22773e-d79c-486d-8c73-65ac10aa97c8",
   "metadata": {
    "tags": []
   },
   "outputs": [],
   "source": [
    "import ipywidgets as widgets\n",
    "\n",
    "t_min, t_max = df.timestamp.min(), df.timestamp.max()\n",
    "\n",
    "caption = widgets.Label(value='The slider value is in its initial position.')\n",
    "ts_slider = widgets.IntRangeSlider(\n",
    "    value=[t_min, t_max],\n",
    "    min=t_min,\n",
    "    max=t_max,\n",
    "    step=60,\n",
    "    description='Timestamp (in minutes):',\n",
    ")"
   ]
  },
  {
   "cell_type": "code",
   "execution_count": null,
   "id": "bb8e71cf-44d9-4971-a6b8-94bce5df2b14",
   "metadata": {
    "tags": []
   },
   "outputs": [],
   "source": [
    "handle = show(p, notebook_handle=True)\n",
    "\n",
    "@widgets.interact(value=ts_slider)\n",
    "def handle_ts_slider_change(value):\n",
    "    view.filter = (\n",
    "        BooleanFilter(list(df.timestamp > value[0])) &\n",
    "        BooleanFilter(list(df.timestamp < value[1]))\n",
    "    )\n",
    "    push_notebook(handle=handle)"
   ]
  }
 ],
 "metadata": {
  "kernelspec": {
   "display_name": "Django Shell-Plus",
   "language": "python",
   "name": "django_extensions"
  },
  "language_info": {
   "codemirror_mode": {
    "name": "ipython",
    "version": 3
   },
   "file_extension": ".py",
   "mimetype": "text/x-python",
   "name": "python",
   "nbconvert_exporter": "python",
   "pygments_lexer": "ipython3",
   "version": "3.10.10"
  }
 },
 "nbformat": 4,
 "nbformat_minor": 5
}
