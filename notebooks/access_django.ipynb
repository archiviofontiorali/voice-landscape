{
 "cells": [
  {
   "cell_type": "code",
   "execution_count": null,
   "id": "145abcfb-d0dd-441d-aaf3-76b18f428114",
   "metadata": {
    "tags": []
   },
   "outputs": [],
   "source": [
    "# Solve SynchronousOnlyOperation error\n",
    "# https://stackoverflow.com/questions/61926359/django-synchronousonlyoperation-you-cannot-call-this-from-an-async-context-u\n",
    "\n",
    "import os\n",
    "import django\n",
    "os.environ.setdefault('DJANGO_SETTINGS_MODULE', 'rest.settings')\n",
    "os.environ[\"DJANGO_ALLOW_ASYNC_UNSAFE\"] = \"true\"\n",
    "django.setup()"
   ]
  },
  {
   "cell_type": "code",
   "execution_count": null,
   "id": "6f744dda-6f1e-4cca-baa1-80e0fbc23c1b",
   "metadata": {
    "tags": []
   },
   "outputs": [],
   "source": [
    "from voices.website import models"
   ]
  },
  {
   "cell_type": "code",
   "execution_count": null,
   "id": "9776f1d0-2559-45ff-a56e-0599584f57cf",
   "metadata": {
    "tags": []
   },
   "outputs": [],
   "source": [
    "for share in models.Share.objects.all():\n",
    "    print(share.message)"
   ]
  }
 ],
 "metadata": {
  "kernelspec": {
   "display_name": "Django Shell-Plus",
   "language": "python",
   "name": "django_extensions"
  },
  "language_info": {
   "codemirror_mode": {
    "name": "ipython",
    "version": 3
   },
   "file_extension": ".py",
   "mimetype": "text/x-python",
   "name": "python",
   "nbconvert_exporter": "python",
   "pygments_lexer": "ipython3",
   "version": "3.10.10"
  }
 },
 "nbformat": 4,
 "nbformat_minor": 5
}
