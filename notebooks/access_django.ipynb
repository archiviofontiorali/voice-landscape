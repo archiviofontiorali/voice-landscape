{
 "cells": [
  {
   "cell_type": "code",
   "execution_count": null,
   "id": "6f744dda-6f1e-4cca-baa1-80e0fbc23c1b",
   "metadata": {
    "tags": []
   },
   "outputs": [],
   "source": [
    "from voices.website import models"
   ]
  },
  {
   "cell_type": "code",
   "execution_count": null,
   "id": "9776f1d0-2559-45ff-a56e-0599584f57cf",
   "metadata": {
    "tags": []
   },
   "outputs": [],
   "source": [
    "for share in models.Share.objects.all():\n",
    "    print(share.message)"
   ]
  }
 ],
 "metadata": {
  "kernelspec": {
   "display_name": "Django Shell-Plus",
   "language": "python",
   "name": "django_extensions"
  },
  "language_info": {
   "codemirror_mode": {
    "name": "ipython",
    "version": 3
   },
   "file_extension": ".py",
   "mimetype": "text/x-python",
   "name": "python",
   "nbconvert_exporter": "python",
   "pygments_lexer": "ipython3",
   "version": "3.10.10"
  }
 },
 "nbformat": 4,
 "nbformat_minor": 5
}
