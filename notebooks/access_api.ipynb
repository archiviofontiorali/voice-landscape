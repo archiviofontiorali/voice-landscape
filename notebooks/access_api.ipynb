{
 "cells": [
  {
   "cell_type": "code",
   "execution_count": null,
   "id": "056fc729-66dd-44bf-bab1-1b5172181e0d",
   "metadata": {
    "tags": []
   },
   "outputs": [],
   "source": [
    "import requests"
   ]
  },
  {
   "cell_type": "code",
   "execution_count": null,
   "id": "ff35591c-c51b-4807-b5c0-a006578ff403",
   "metadata": {
    "tags": []
   },
   "outputs": [],
   "source": [
    "api_url = \"http://localhost:8001/api/{endpoint}/\"\n",
    "\n",
    "AUTH = (\"admin\", input(\"Insert admin password:\"))"
   ]
  },
  {
   "cell_type": "code",
   "execution_count": null,
   "id": "7e79da5d-abf3-4d3c-b6be-4d9120606553",
   "metadata": {
    "tags": []
   },
   "outputs": [],
   "source": [
    "def get_data(endpoint: str, auth=AUTH):\n",
    "    response = requests.get(\n",
    "        url=api_url.format(endpoint=endpoint),\n",
    "        headers={'Accept': \"application/json; indent=4\"},\n",
    "        auth=AUTH,\n",
    "    )\n",
    "    if response.status_code != 200:\n",
    "        raise Exception(response)\n",
    "    return response.json()"
   ]
  },
  {
   "cell_type": "code",
   "execution_count": null,
   "id": "90847c7c-3586-4c40-be49-13f3ae8e4985",
   "metadata": {
    "tags": []
   },
   "outputs": [],
   "source": [
    "places = get_data(\"places\")[\"results\"]\n",
    "places = {p[\"id\"]: p for p in places}"
   ]
  },
  {
   "cell_type": "code",
   "execution_count": null,
   "id": "9a9296c5-da3e-448c-a326-116ac18d300c",
   "metadata": {
    "tags": []
   },
   "outputs": [],
   "source": [
    "words = []\n",
    "for w in get_data(\"word-frequencies\")[\"results\"]:\n",
    "    w[\"place\"] = places[w[\"place\"]][\"title\"]\n",
    "    words.append(w)"
   ]
  }
 ],
 "metadata": {
  "kernelspec": {
   "display_name": "Django Shell-Plus",
   "language": "python",
   "name": "django_extensions"
  },
  "language_info": {
   "codemirror_mode": {
    "name": "ipython",
    "version": 3
   },
   "file_extension": ".py",
   "mimetype": "text/x-python",
   "name": "python",
   "nbconvert_exporter": "python",
   "pygments_lexer": "ipython3",
   "version": "3.10.10"
  }
 },
 "nbformat": 4,
 "nbformat_minor": 5
}
